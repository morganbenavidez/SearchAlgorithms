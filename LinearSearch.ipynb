{
  "nbformat": 4,
  "nbformat_minor": 0,
  "metadata": {
    "colab": {
      "name": "LinearSearch.ipynb",
      "provenance": [],
      "collapsed_sections": []
    },
    "kernelspec": {
      "name": "python3",
      "display_name": "Python 3"
    },
    "language_info": {
      "name": "python"
    }
  },
  "cells": [
    {
      "cell_type": "code",
      "execution_count": 4,
      "metadata": {
        "colab": {
          "base_uri": "https://localhost:8080/"
        },
        "id": "GHnKdI0h_1W3",
        "outputId": "08934902-b411-40df-8289-60b698bf2998"
      },
      "outputs": [
        {
          "output_type": "stream",
          "name": "stdout",
          "text": [
            "The index of the item you are searching for is 5\n"
          ]
        }
      ],
      "source": [
        "# Linear Search returns the index of the item you are searching for\n",
        "\n",
        "def LinearSearch(TheArray, ItemYouAreSearchingFor):\n",
        "  \n",
        "  for i in range(0, len(TheArray)):\n",
        "\n",
        "    if TheArray[i] == ItemYouAreSearchingFor:\n",
        "\n",
        "      return i\n",
        "\n",
        "\n",
        "AnArray = [1,5,3,6,3,7,4]\n",
        "\n",
        "Index = LinearSearch(AnArray, 7)\n",
        "\n",
        "print('The index of the item you are searching for is ' + str(Index))\n"
      ]
    }
  ]
}