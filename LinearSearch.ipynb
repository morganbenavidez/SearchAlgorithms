{
  "nbformat": 4,
  "nbformat_minor": 0,
  "metadata": {
    "colab": {
      "name": "LinearSearch.ipynb",
      "provenance": [],
      "collapsed_sections": []
    },
    "kernelspec": {
      "name": "python3",
      "display_name": "Python 3"
    },
    "language_info": {
      "name": "python"
    }
  },
  "cells": [
    {
      "cell_type": "code",
      "execution_count": 11,
      "metadata": {
        "colab": {
          "base_uri": "https://localhost:8080/"
        },
        "id": "GHnKdI0h_1W3",
        "outputId": "4a54f2a6-6422-409a-aa98-0d47330b0d7c"
      },
      "outputs": [
        {
          "output_type": "stream",
          "name": "stdout",
          "text": [
            "The index of the item you are searching for is 2\n"
          ]
        }
      ],
      "source": [
        "# Linear Search returns the index of the item you are searching for\n",
        "\n",
        "def LinearSearch(TheArray, ItemYouAreSearchingFor):\n",
        "  \n",
        "  for i in range(0, len(TheArray)):\n",
        "\n",
        "    if TheArray[i] == ItemYouAreSearchingFor:\n",
        "\n",
        "      return i\n",
        "\n",
        "  return False\n",
        "\n",
        "AnArray = [1,5,3,6,3,7,4]\n",
        "\n",
        "Index = LinearSearch(AnArray, 3)\n",
        "\n",
        "if Index == False:\n",
        "\n",
        "  print('The item you are searching for is not in the Array.')\n",
        "\n",
        "else: \n",
        "\n",
        "  print('The index of the item you are searching for is ' + str(Index))\n"
      ]
    }
  ]
}